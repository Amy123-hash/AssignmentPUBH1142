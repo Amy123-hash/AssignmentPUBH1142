{
  "nbformat": 4,
  "nbformat_minor": 0,
  "metadata": {
    "colab": {
      "provenance": []
    },
    "kernelspec": {
      "name": "python3",
      "display_name": "Python 3"
    },
    "language_info": {
      "name": "python"
    }
  },
  "cells": [
    {
      "cell_type": "code",
      "source": [
        "from IPython.core.display import display, HTML\n",
        "\n",
        "# Display the text in large, blue font\n",
        "display(HTML('<h1 style=\"color:darkblue; font-size: 36px;\">11 | INTRODUCTION TO DISTRIBUTIONS AND THEIR USE</h1>'))"
      ],
      "metadata": {
        "colab": {
          "base_uri": "https://localhost:8080/",
          "height": 134
        },
        "id": "TyVWbvAvXwv0",
        "outputId": "d8f99d30-585a-4967-93e9-81e2f1bb53b5"
      },
      "execution_count": 1,
      "outputs": [
        {
          "output_type": "display_data",
          "data": {
            "text/plain": [
              "<IPython.core.display.HTML object>"
            ],
            "text/html": [
              "<h1 style=\"color:darkblue; font-size: 36px;\">11 | INTRODUCTION TO DISTRIBUTIONS AND THEIR USE</h1>"
            ]
          },
          "metadata": {}
        }
      ]
    },
    {
      "cell_type": "code",
      "source": [
        "display(HTML('<h1 style=\"color:pink; font-size: 30px;\">Afrah Beshir-Week 11</h1>'))"
      ],
      "metadata": {
        "colab": {
          "base_uri": "https://localhost:8080/",
          "height": 78
        },
        "id": "BBush1HwX-Ya",
        "outputId": "b4ba4fa3-8031-47cb-a45f-426190804278"
      },
      "execution_count": 9,
      "outputs": [
        {
          "output_type": "display_data",
          "data": {
            "text/plain": [
              "<IPython.core.display.HTML object>"
            ],
            "text/html": [
              "<h1 style=\"color:pink; font-size: 30px;\">Afrah Beshir-Week 11</h1>"
            ]
          },
          "metadata": {}
        }
      ]
    },
    {
      "cell_type": "code",
      "source": [
        "display(HTML('<h1 style=\"color:blue; font-size: 36px;\">Quiz questions</h1>'))"
      ],
      "metadata": {
        "colab": {
          "base_uri": "https://localhost:8080/",
          "height": 90
        },
        "id": "gLi9EOYRXxW9",
        "outputId": "1c7c1506-d4d8-4ef0-e57a-55bca1c2aac3"
      },
      "execution_count": 3,
      "outputs": [
        {
          "output_type": "display_data",
          "data": {
            "text/plain": [
              "<IPython.core.display.HTML object>"
            ],
            "text/html": [
              "<h1 style=\"color:blue; font-size: 36px;\">Quiz questions</h1>"
            ]
          },
          "metadata": {}
        }
      ]
    },
    {
      "cell_type": "code",
      "source": [
        "# Import required libraries\n",
        "import numpy as np\n",
        "import scipy.stats as stats"
      ],
      "metadata": {
        "id": "H_7mBaMLXkoY"
      },
      "execution_count": 3,
      "outputs": []
    },
    {
      "cell_type": "code",
      "source": [
        "# Set random seed for reproducibility\n",
        "np.random.seed(28)"
      ],
      "metadata": {
        "id": "g6JFNUz4FYyD"
      },
      "execution_count": 4,
      "outputs": []
    },
    {
      "cell_type": "code",
      "source": [
        "# Create population data\n",
        "dBP = np.random.normal(85, 10, 100000)\n",
        "population_mean = dBP.mean()"
      ],
      "metadata": {
        "id": "ygI0BVhcFcBC"
      },
      "execution_count": 5,
      "outputs": []
    },
    {
      "cell_type": "code",
      "source": [
        "# Set seed for questions\n",
        "np.random.seed(12)"
      ],
      "metadata": {
        "id": "UnNy9i9kFfIG"
      },
      "execution_count": 6,
      "outputs": []
    },
    {
      "cell_type": "markdown",
      "source": [
        "## **1. Select a random sample of 40 individuals from the population**\n"
      ],
      "metadata": {
        "id": "14Cw0zFtFeHb"
      }
    },
    {
      "cell_type": "code",
      "source": [
        "sample = np.random.choice(dBP, size=40, replace=False)\n",
        "sample"
      ],
      "metadata": {
        "colab": {
          "base_uri": "https://localhost:8080/"
        },
        "id": "D9_vkNJtFik1",
        "outputId": "6a87a345-cd1b-4849-b0b4-872db25ae18c"
      },
      "execution_count": 20,
      "outputs": [
        {
          "output_type": "execute_result",
          "data": {
            "text/plain": [
              "array([ 88.80629525,  83.99811219,  90.34507904,  91.62465878,\n",
              "        81.03998162,  96.25083652,  75.46526188, 102.1176133 ,\n",
              "       114.99100006,  78.43966483,  89.32570469,  90.12619483,\n",
              "        68.74555585,  98.15498566,  88.83694176,  70.25277096,\n",
              "        74.89238752,  88.09998639,  80.7928339 ,  89.47639417,\n",
              "        76.46088982,  74.61160769,  78.56216472,  84.01628611,\n",
              "        92.47601425,  91.16018188,  83.40556627,  97.1979469 ,\n",
              "        82.61880119,  78.81573765,  75.53332238,  88.36304405,\n",
              "        77.84777374,  85.06982554,  77.47594549,  88.38414494,\n",
              "        80.55717141,  68.65251624,  73.52740766,  68.91809591])"
            ]
          },
          "metadata": {},
          "execution_count": 20
        }
      ]
    },
    {
      "cell_type": "markdown",
      "source": [
        "## **2. Calculate the sample mean**"
      ],
      "metadata": {
        "id": "cPvO3gTeFkbY"
      }
    },
    {
      "cell_type": "code",
      "source": [
        "sample_mean = sample.mean()\n",
        "print(f\"The sample mean diastolic blood pressure is {sample_mean:.2f} mmHg.\")"
      ],
      "metadata": {
        "colab": {
          "base_uri": "https://localhost:8080/"
        },
        "id": "emi5wk0fFmr-",
        "outputId": "3632a05e-2fa8-4ed6-dbc0-a141e9e88b60"
      },
      "execution_count": 21,
      "outputs": [
        {
          "output_type": "stream",
          "name": "stdout",
          "text": [
            "The sample mean diastolic blood pressure is 84.14 mmHg.\n"
          ]
        }
      ]
    },
    {
      "cell_type": "markdown",
      "source": [
        "## **3. Calculate the standard deviation of the sample**"
      ],
      "metadata": {
        "id": "6orhiIC1Fpzd"
      }
    },
    {
      "cell_type": "code",
      "source": [
        "sample_std = sample.std(ddof=1)\n",
        "print(f\"The sample standard deviation is {sample_std:.2f} mmHg.\")"
      ],
      "metadata": {
        "colab": {
          "base_uri": "https://localhost:8080/"
        },
        "id": "mEKR5t4WFrOl",
        "outputId": "5a71ff32-fc1d-4341-afa1-10c4aa0bbaf6"
      },
      "execution_count": 22,
      "outputs": [
        {
          "output_type": "stream",
          "name": "stdout",
          "text": [
            "The sample standard deviation is 9.87 mmHg.\n"
          ]
        }
      ]
    },
    {
      "cell_type": "markdown",
      "source": [
        "## **4. Calculate the standard error of the sample**"
      ],
      "metadata": {
        "id": "nvEJqkiUFs8K"
      }
    },
    {
      "cell_type": "code",
      "source": [
        "standard_error = sample_std / np.sqrt(len(sample))\n",
        "print(f\"The standard error is {standard_error:.2f} mmHg.\")"
      ],
      "metadata": {
        "colab": {
          "base_uri": "https://localhost:8080/"
        },
        "id": "d_t8TIEoFumA",
        "outputId": "d02e2921-1e55-4900-818a-1dd4b7214ff4"
      },
      "execution_count": 23,
      "outputs": [
        {
          "output_type": "stream",
          "name": "stdout",
          "text": [
            "The standard error is 1.56 mmHg.\n"
          ]
        }
      ]
    },
    {
      "cell_type": "markdown",
      "source": [
        "## **5. Calculate the confidence coefficient for a 95% confidence level**\n"
      ],
      "metadata": {
        "id": "jMvnctuBFv5s"
      }
    },
    {
      "cell_type": "code",
      "source": [
        "df = len(sample) - 1\n",
        "c = stats.t.ppf(0.975, df)\n",
        "print(f\"The t-critical value for 95% confidence is {c:.2f}.\")"
      ],
      "metadata": {
        "colab": {
          "base_uri": "https://localhost:8080/"
        },
        "id": "V1eIjOwZFxJ6",
        "outputId": "68363b06-c564-496f-dc3e-a55a5e79624f"
      },
      "execution_count": 24,
      "outputs": [
        {
          "output_type": "stream",
          "name": "stdout",
          "text": [
            "The t-critical value for 95% confidence is 2.02.\n"
          ]
        }
      ]
    },
    {
      "cell_type": "markdown",
      "source": [
        "## **6. Calculate the lower bound of the confidence interval**"
      ],
      "metadata": {
        "id": "y3xTEFizF4iM"
      }
    },
    {
      "cell_type": "code",
      "source": [
        "lower_bound = sample_mean - c * standard_error\n",
        "print(f\"The lower confidence bound is {lower_bound:.2f} mmHg.\")"
      ],
      "metadata": {
        "colab": {
          "base_uri": "https://localhost:8080/"
        },
        "id": "EHZE3RCRF3Wb",
        "outputId": "db47a4a8-a666-413c-89e5-1c984084be76"
      },
      "execution_count": 25,
      "outputs": [
        {
          "output_type": "stream",
          "name": "stdout",
          "text": [
            "The lower confidence bound is 80.98 mmHg.\n"
          ]
        }
      ]
    },
    {
      "cell_type": "markdown",
      "source": [
        "## **7. Calculate the upper bound of the confidence interval**\n"
      ],
      "metadata": {
        "id": "6zK6XVg5F8LO"
      }
    },
    {
      "cell_type": "code",
      "source": [
        "upper_bound = sample_mean + c * standard_error\n",
        "print(f\"The upper confidence bound is {upper_bound:.2f} mmHg.\")"
      ],
      "metadata": {
        "colab": {
          "base_uri": "https://localhost:8080/"
        },
        "id": "79KrbTOvF-oV",
        "outputId": "d282e03b-180e-4840-99ad-22d4b8af40c2"
      },
      "execution_count": 26,
      "outputs": [
        {
          "output_type": "stream",
          "name": "stdout",
          "text": [
            "The upper confidence bound is 87.29 mmHg.\n"
          ]
        }
      ]
    },
    {
      "cell_type": "markdown",
      "source": [
        "## **8. Create an array of 1000 bootstrapped sample means**\n"
      ],
      "metadata": {
        "id": "sftEUGPRGACG"
      }
    },
    {
      "cell_type": "code",
      "source": [
        "bootstrapped_means = np.array([\n",
        "    np.random.choice(sample, size=40, replace=True).mean()\n",
        "    for _ in range(1000)\n",
        "])\n",
        "bootstrapped_means.sort()\n",
        "print(\"Bootstrapping complete with 1000 resamples.\")"
      ],
      "metadata": {
        "colab": {
          "base_uri": "https://localhost:8080/"
        },
        "id": "gfzMY82kGBY8",
        "outputId": "68fdd2b9-0dad-4f65-cbda-af4360678830"
      },
      "execution_count": 27,
      "outputs": [
        {
          "output_type": "stream",
          "name": "stdout",
          "text": [
            "Bootstrapping complete with 1000 resamples.\n"
          ]
        }
      ]
    },
    {
      "cell_type": "markdown",
      "source": [
        "## **9. Show the bootstrapped value representing the 2.5th percentile**\n"
      ],
      "metadata": {
        "id": "xPwKqp8xGEZ6"
      }
    },
    {
      "cell_type": "code",
      "source": [
        "percentile_2_5 = np.percentile(bootstrapped_means, 2.5)\n",
        "print(f\"The 2.5th percentile is {percentile_2_5:.2f} mmHg.\")"
      ],
      "metadata": {
        "colab": {
          "base_uri": "https://localhost:8080/"
        },
        "id": "DUMSsEELGD3G",
        "outputId": "bd4ca6a5-ef0b-4239-f469-ffbb34dfc266"
      },
      "execution_count": 28,
      "outputs": [
        {
          "output_type": "stream",
          "name": "stdout",
          "text": [
            "The 2.5th percentile is 81.12 mmHg.\n"
          ]
        }
      ]
    },
    {
      "cell_type": "markdown",
      "source": [
        "## **10. Show the bootstrapped value representing the 97.5th percentile**"
      ],
      "metadata": {
        "id": "Pq_B-cDAGHHI"
      }
    },
    {
      "cell_type": "code",
      "source": [
        "percentile_97_5 = np.percentile(bootstrapped_means, 97.5)\n",
        "print(f\"The 97.5th percentile is {percentile_97_5:.2f} mmHg.\")"
      ],
      "metadata": {
        "colab": {
          "base_uri": "https://localhost:8080/"
        },
        "id": "p3x_7SVnGHRf",
        "outputId": "04950827-f52e-42c4-8d79-31e4e000e63b"
      },
      "execution_count": 29,
      "outputs": [
        {
          "output_type": "stream",
          "name": "stdout",
          "text": [
            "The 97.5th percentile is 87.08 mmHg.\n"
          ]
        }
      ]
    }
  ]
}