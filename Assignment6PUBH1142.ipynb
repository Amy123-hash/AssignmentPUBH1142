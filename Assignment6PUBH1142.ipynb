{
  "nbformat": 4,
  "nbformat_minor": 0,
  "metadata": {
    "colab": {
      "provenance": []
    },
    "kernelspec": {
      "name": "python3",
      "display_name": "Python 3"
    },
    "language_info": {
      "name": "python"
    }
  },
  "cells": [
    {
      "cell_type": "code",
      "source": [
        "from IPython.core.display import display, HTML\n",
        "\n",
        "# Display the text in large, blue font\n",
        "display(HTML('<h1 style=\"color:purple; font-size: 36px;\">9 | EXPLORATORY DATA ANALYSIS</h1>'))\n"
      ],
      "metadata": {
        "colab": {
          "base_uri": "https://localhost:8080/",
          "height": 90
        },
        "id": "w7eykVS1KgxU",
        "outputId": "36c8ce86-e2e7-47b0-8ff0-db6502d7dd00"
      },
      "execution_count": 4,
      "outputs": [
        {
          "output_type": "display_data",
          "data": {
            "text/plain": [
              "<IPython.core.display.HTML object>"
            ],
            "text/html": [
              "<h1 style=\"color:purple; font-size: 36px;\">9 | EXPLORATORY DATA ANALYSIS</h1>"
            ]
          },
          "metadata": {}
        }
      ]
    },
    {
      "cell_type": "code",
      "source": [
        "display(HTML('<h1 style=\"color:pink; font-size: 30px;\">Week 9 Assignment 6 - Afrah Beshir</h1>'))\n"
      ],
      "metadata": {
        "colab": {
          "base_uri": "https://localhost:8080/",
          "height": 78
        },
        "id": "fkWaBToWKq9e",
        "outputId": "ec8178fe-9075-4714-fd67-db04cde47abe"
      },
      "execution_count": 12,
      "outputs": [
        {
          "output_type": "display_data",
          "data": {
            "text/plain": [
              "<IPython.core.display.HTML object>"
            ],
            "text/html": [
              "<h1 style=\"color:pink; font-size: 30px;\">Week 9 Assignment 6 - Afrah Beshir</h1>"
            ]
          },
          "metadata": {}
        }
      ]
    },
    {
      "cell_type": "markdown",
      "source": [
        "## 1. How do you import the pandas package in Python?\n"
      ],
      "metadata": {
        "id": "5DkTa8L6KzWm"
      }
    },
    {
      "cell_type": "code",
      "source": [
        "import pandas as pd"
      ],
      "metadata": {
        "id": "Tf7TlDi-K6gV"
      },
      "execution_count": 8,
      "outputs": []
    },
    {
      "cell_type": "markdown",
      "source": [
        "## 2. What function do you use to read a CSV file in pandas?"
      ],
      "metadata": {
        "id": "OOsltX0BK81-"
      }
    },
    {
      "cell_type": "code",
      "source": [
        "df = pd.read_csv(\"filename.csv\")"
      ],
      "metadata": {
        "id": "p3RCfEBPK8LI"
      },
      "execution_count": null,
      "outputs": []
    },
    {
      "cell_type": "markdown",
      "source": [
        "##3. How do you display the first 5 rows of a DataFrame in pandas?"
      ],
      "metadata": {
        "id": "FrfQq5DdLLDQ"
      }
    },
    {
      "cell_type": "code",
      "source": [
        "df.head()"
      ],
      "metadata": {
        "id": "tqTP3SsoLRTQ"
      },
      "execution_count": null,
      "outputs": []
    },
    {
      "cell_type": "markdown",
      "source": [
        "## 4. How do you calculate the mean of a column named Age in a DataFrame named df?"
      ],
      "metadata": {
        "id": "gYoxutNdLSk-"
      }
    },
    {
      "cell_type": "code",
      "source": [
        "df[\"Age\"].mean()"
      ],
      "metadata": {
        "id": "-XO3WP2pLWMM"
      },
      "execution_count": null,
      "outputs": []
    },
    {
      "cell_type": "markdown",
      "source": [
        "##5. How do you calculate the median of a column named Salary in a DataFrame named df?"
      ],
      "metadata": {
        "id": "iyLoJd9ELXl6"
      }
    },
    {
      "cell_type": "code",
      "source": [
        "df[\"Salary\"].median()"
      ],
      "metadata": {
        "id": "raSGZqNJLbXE"
      },
      "execution_count": null,
      "outputs": []
    },
    {
      "cell_type": "markdown",
      "source": [
        "##6. How do you calculate the standard deviation of a column named Score in a DataFrame named df?"
      ],
      "metadata": {
        "id": "KS7b4kcvLcg0"
      }
    },
    {
      "cell_type": "code",
      "source": [
        "df[\"Score\"].std()"
      ],
      "metadata": {
        "id": "ANe14Nc-Lfgv"
      },
      "execution_count": null,
      "outputs": []
    },
    {
      "cell_type": "markdown",
      "source": [
        "##7. How do you find the number of missing values in each column of a DataFrame named df?"
      ],
      "metadata": {
        "id": "txQoKOIFLgzK"
      }
    },
    {
      "cell_type": "code",
      "source": [
        "df.isnull().sum()"
      ],
      "metadata": {
        "id": "NBTQvQyZLkPz"
      },
      "execution_count": null,
      "outputs": []
    },
    {
      "cell_type": "markdown",
      "source": [
        "##8. How do you calculate the correlation between two columns, Age and Salary, in a DataFrame named df?"
      ],
      "metadata": {
        "id": "9FWMSKekLnHZ"
      }
    },
    {
      "cell_type": "code",
      "source": [
        "df[\"Age\"].corr(df[\"Salary\"])"
      ],
      "metadata": {
        "id": "k9Ez3mLDLlfa"
      },
      "execution_count": null,
      "outputs": []
    },
    {
      "cell_type": "markdown",
      "source": [
        "##9. How do you select a subset of a DataFrame df where the column Age is greater than 30?"
      ],
      "metadata": {
        "id": "BAkIDYiBLtDc"
      }
    },
    {
      "cell_type": "code",
      "source": [
        "df[df[\"Age\"] > 30]"
      ],
      "metadata": {
        "id": "m-JxrtcmLv20"
      },
      "execution_count": null,
      "outputs": []
    },
    {
      "cell_type": "markdown",
      "source": [
        "##10. How do you calculate the range (maximum - minimum) of a column named Score in a DataFrame named df?"
      ],
      "metadata": {
        "id": "wzjJxkV7Lw8Z"
      }
    },
    {
      "cell_type": "code",
      "source": [
        "df[\"Score\"].max() - df[\"Score\"].min()"
      ],
      "metadata": {
        "id": "zvm9OEUkL03j"
      },
      "execution_count": null,
      "outputs": []
    },
    {
      "cell_type": "markdown",
      "source": [
        "##11. How do you group a DataFrame df by a column named Department and calculate the mean of Salary within each group?"
      ],
      "metadata": {
        "id": "xB9U4lz5L14U"
      }
    },
    {
      "cell_type": "code",
      "source": [
        "df.groupby(\"Department\")[\"Salary\"].mean()"
      ],
      "metadata": {
        "id": "JfCNV1JgL5bb"
      },
      "execution_count": null,
      "outputs": []
    },
    {
      "cell_type": "markdown",
      "source": [
        "##12. How do you group a DataFrame df by two columns, Department and Job Title, and count the number of rows within each group?"
      ],
      "metadata": {
        "id": "-m3A5INoL7x7"
      }
    },
    {
      "cell_type": "code",
      "source": [
        "df.groupby([\"Department\", \"Job Title\"]).size()"
      ],
      "metadata": {
        "id": "uhuVOy5JL7WQ"
      },
      "execution_count": null,
      "outputs": []
    },
    {
      "cell_type": "markdown",
      "source": [
        "##13. How do you use the groupby method to find the maximum Age in each Department in a DataFrame df?"
      ],
      "metadata": {
        "id": "WcC8ZSN_MDve"
      }
    },
    {
      "cell_type": "code",
      "source": [
        "df.groupby(\"Department\")[\"Age\"].max()"
      ],
      "metadata": {
        "id": "JWF1cieoMD62"
      },
      "execution_count": null,
      "outputs": []
    },
    {
      "cell_type": "markdown",
      "source": [
        "##14. How do you create a cross-tabulation table that shows the frequency count of Department (rows) and Job Title (columns) in a DataFrame df?"
      ],
      "metadata": {
        "id": "VZ08bKzkML88"
      }
    },
    {
      "cell_type": "code",
      "source": [
        "pd.crosstab(df[\"Department\"], df[\"Job Title\"])"
      ],
      "metadata": {
        "id": "nDic-8xKMMIC"
      },
      "execution_count": null,
      "outputs": []
    },
    {
      "cell_type": "markdown",
      "source": [
        "## 15.How do you create a cross-tabulation table that shows the mean Salary for each combination of Department (rows) and Job Title (columns) in a DataFrame df?"
      ],
      "metadata": {
        "id": "NqUeDuNKMQvU"
      }
    },
    {
      "cell_type": "code",
      "source": [
        "pd.crosstab(df[\"Department\"], df[\"Job Title\"], values=df[\"Salary\"], aggfunc=\"mean\")"
      ],
      "metadata": {
        "id": "PJtJ7FdhMeAe"
      },
      "execution_count": null,
      "outputs": []
    }
  ]
}