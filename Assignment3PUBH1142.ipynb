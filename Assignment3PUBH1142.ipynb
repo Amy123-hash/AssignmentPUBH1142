{
  "nbformat": 4,
  "nbformat_minor": 0,
  "metadata": {
    "colab": {
      "provenance": []
    },
    "kernelspec": {
      "name": "python3",
      "display_name": "Python 3"
    },
    "language_info": {
      "name": "python"
    }
  },
  "cells": [
    {
      "cell_type": "markdown",
      "source": [
        "## 1.Use Python to calculate solutions to the following expressions."
      ],
      "metadata": {
        "id": "YIgjY_eoScBm"
      }
    },
    {
      "cell_type": "code",
      "source": [
        "result = 3 * 833 + 75\n",
        "print(result)\n"
      ],
      "metadata": {
        "colab": {
          "base_uri": "https://localhost:8080/"
        },
        "id": "_RbUCTFbTRT5",
        "outputId": "166d356e-fd7f-4bb3-d3f0-a3ceb517b732"
      },
      "execution_count": 1,
      "outputs": [
        {
          "output_type": "stream",
          "name": "stdout",
          "text": [
            "2574\n"
          ]
        }
      ]
    },
    {
      "cell_type": "markdown",
      "source": [
        "##2.Determine the data type of the output of the code 1+2. and 1+2. Explain why the data types are different.\n"
      ],
      "metadata": {
        "id": "8G-98LCwSdPv"
      }
    },
    {
      "cell_type": "code",
      "source": [
        "a = 1 + 2   # Integer addition\n",
        "b = 1 + 2.0 # Float addition\n",
        "\n",
        "print(type(a))  # Output: <class 'int'>\n",
        "print(type(b))  # Output: <class 'float'>\n"
      ],
      "metadata": {
        "colab": {
          "base_uri": "https://localhost:8080/"
        },
        "id": "3dtPJpB-TRx3",
        "outputId": "248e81c8-be02-4da0-e4be-e24be0b71136"
      },
      "execution_count": 4,
      "outputs": [
        {
          "output_type": "stream",
          "name": "stdout",
          "text": [
            "<class 'int'>\n",
            "<class 'float'>\n"
          ]
        }
      ]
    },
    {
      "cell_type": "markdown",
      "source": [
        "Reasoning\n",
        "\n",
        "*   1 + 2 results in an integer, because both operands are integers.\n",
        "1 + 2.0 results in a float, because one operand is a float (2.0), and Python promotes the result to float.\n",
        "\n"
      ],
      "metadata": {
        "id": "i8spF1pRTfTz"
      }
    },
    {
      "cell_type": "markdown",
      "source": [
        "## 3.Generate a loop that prints n2 for each of the numbers n={1,2,3,4,5}"
      ],
      "metadata": {
        "id": "vr60w6g_SdYY"
      }
    },
    {
      "cell_type": "code",
      "source": [
        "for n in [1, 2, 3, 4, 5]:\n",
        "    print(n**2)"
      ],
      "metadata": {
        "colab": {
          "base_uri": "https://localhost:8080/"
        },
        "id": "C9cylA9KTSSQ",
        "outputId": "96a5806a-7ff1-4715-da15-ddb17700864b"
      },
      "execution_count": 3,
      "outputs": [
        {
          "output_type": "stream",
          "name": "stdout",
          "text": [
            "1\n",
            "4\n",
            "9\n",
            "16\n",
            "25\n"
          ]
        }
      ]
    },
    {
      "cell_type": "markdown",
      "source": [
        "## 4.Create the variable i by assigning the value 1 to it. Create a loop that prints the value of i2 to the screen. Increment the value of i by 1 until the value of i2 exceeds 1000. Print the value assigned to i after the loop has completed. Explain why the solution is i=32, where 322 is larger than 1000\n"
      ],
      "metadata": {
        "id": "dE_eSwG1SdkM"
      }
    },
    {
      "cell_type": "code",
      "source": [
        "i = 1\n",
        "while i**2 <= 1000:\n",
        "    print(i**2)\n",
        "    i += 1\n",
        "\n",
        "print(f\"Value of i after loop: {i}\")\n"
      ],
      "metadata": {
        "colab": {
          "base_uri": "https://localhost:8080/"
        },
        "id": "a_lkzv5bTS3n",
        "outputId": "a639ee42-26ed-472c-a835-8ecf1d34600b"
      },
      "execution_count": 2,
      "outputs": [
        {
          "output_type": "stream",
          "name": "stdout",
          "text": [
            "1\n",
            "4\n",
            "9\n",
            "16\n",
            "25\n",
            "36\n",
            "49\n",
            "64\n",
            "81\n",
            "100\n",
            "121\n",
            "144\n",
            "169\n",
            "196\n",
            "225\n",
            "256\n",
            "289\n",
            "324\n",
            "361\n",
            "400\n",
            "441\n",
            "484\n",
            "529\n",
            "576\n",
            "625\n",
            "676\n",
            "729\n",
            "784\n",
            "841\n",
            "900\n",
            "961\n",
            "Value of i after loop: 32\n"
          ]
        }
      ]
    }
  ]
}