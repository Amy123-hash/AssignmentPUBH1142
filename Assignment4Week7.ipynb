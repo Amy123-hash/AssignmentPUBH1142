{
  "nbformat": 4,
  "nbformat_minor": 0,
  "metadata": {
    "colab": {
      "provenance": []
    },
    "kernelspec": {
      "name": "python3",
      "display_name": "Python 3"
    },
    "language_info": {
      "name": "python"
    }
  },
  "cells": [
    {
      "cell_type": "code",
      "source": [
        "from IPython.display import display, HTML\n",
        "\n",
        "display(HTML('<p style=\"color:blue; font-size:40px; font-weight:bold;\">7 | PYTHON COLLECTIONS</p>'))\n"
      ],
      "metadata": {
        "colab": {
          "base_uri": "https://localhost:8080/",
          "height": 79
        },
        "id": "1kcD2h2nEUvs",
        "outputId": "60c95cdb-d3fc-4603-d82b-0ca2b5578e2f"
      },
      "execution_count": 109,
      "outputs": [
        {
          "output_type": "display_data",
          "data": {
            "text/plain": [
              "<IPython.core.display.HTML object>"
            ],
            "text/html": [
              "<p style=\"color:blue; font-size:40px; font-weight:bold;\">7 | PYTHON COLLECTIONS</p>"
            ]
          },
          "metadata": {}
        }
      ]
    },
    {
      "cell_type": "markdown",
      "source": [
        "## Week 7 PUBH 1142 Introduction to four types of collections (Lists, Tuples, Dictionaries, and Sets) & Quiz Questions- Afrah Beshir\n",
        "\n",
        "\n"
      ],
      "metadata": {
        "id": "8lfUsrPOj_OA"
      }
    },
    {
      "cell_type": "markdown",
      "source": [
        "# **List**"
      ],
      "metadata": {
        "id": "8V4Ss86rr_UA"
      }
    },
    {
      "cell_type": "code",
      "execution_count": 1,
      "metadata": {
        "colab": {
          "base_uri": "https://localhost:8080/"
        },
        "id": "0YomS9qVjxLi",
        "outputId": "b57685e3-e3db-45d2-e25a-47e113b20b43"
      },
      "outputs": [
        {
          "output_type": "execute_result",
          "data": {
            "text/plain": [
              "[1, 2, 3, 4, 5]"
            ]
          },
          "metadata": {},
          "execution_count": 1
        }
      ],
      "source": [
        "# Make a list of five integers\n",
        "[1, 2, 3, 4, 5]"
      ]
    },
    {
      "cell_type": "code",
      "source": [
        "# Make a list\n",
        "type([1, 2, 3, 4, 5])"
      ],
      "metadata": {
        "colab": {
          "base_uri": "https://localhost:8080/"
        },
        "id": "KwFh5qwtkTYe",
        "outputId": "fdeda153-e831-4faf-90be-7441cc5b9806"
      },
      "execution_count": 2,
      "outputs": [
        {
          "output_type": "execute_result",
          "data": {
            "text/plain": [
              "list"
            ]
          },
          "metadata": {},
          "execution_count": 2
        }
      ]
    },
    {
      "cell_type": "code",
      "source": [
        "# Make a list of five integers & five strings\n",
        "[1, 2, 3, 4, 5, \"one\", \"two\", \"three\", \"four\", \"five\"]"
      ],
      "metadata": {
        "colab": {
          "base_uri": "https://localhost:8080/"
        },
        "id": "QgqWlMyjkYGR",
        "outputId": "be42adc2-e7cf-4360-e93b-ff2f52c602bf"
      },
      "execution_count": 3,
      "outputs": [
        {
          "output_type": "execute_result",
          "data": {
            "text/plain": [
              "[1, 2, 3, 4, 5, 'one', 'two', 'three', 'four', 'five']"
            ]
          },
          "metadata": {},
          "execution_count": 3
        }
      ]
    },
    {
      "cell_type": "code",
      "source": [
        "# Make a list of five random integers and assign it to the variable my_list\n",
        "my_list = [9, 1, 4, 2, 9]"
      ],
      "metadata": {
        "id": "aEEe4_vYkbgJ"
      },
      "execution_count": 15,
      "outputs": []
    },
    {
      "cell_type": "code",
      "source": [
        "# Get the first element of the list\n",
        "my_list[0]"
      ],
      "metadata": {
        "colab": {
          "base_uri": "https://localhost:8080/"
        },
        "id": "QZCqAI29kchP",
        "outputId": "edfd2bca-4d00-4a8a-be10-795aa9f84ae5"
      },
      "execution_count": 16,
      "outputs": [
        {
          "output_type": "execute_result",
          "data": {
            "text/plain": [
              "9"
            ]
          },
          "metadata": {},
          "execution_count": 16
        }
      ]
    },
    {
      "cell_type": "code",
      "source": [
        "# Get the last element of the list\n",
        "my_list[-1]"
      ],
      "metadata": {
        "colab": {
          "base_uri": "https://localhost:8080/"
        },
        "id": "lPJdiku1keGj",
        "outputId": "87bf49df-ca73-4db3-85c4-69da1dfc7b60"
      },
      "execution_count": 17,
      "outputs": [
        {
          "output_type": "execute_result",
          "data": {
            "text/plain": [
              "9"
            ]
          },
          "metadata": {},
          "execution_count": 17
        }
      ]
    },
    {
      "cell_type": "code",
      "source": [
        "# Get the last element of the list\n",
        "my_list[4]"
      ],
      "metadata": {
        "colab": {
          "base_uri": "https://localhost:8080/"
        },
        "id": "0CThurRHkgK1",
        "outputId": "80ebe3c4-5a0b-469e-89b7-b61150ac3dce"
      },
      "execution_count": 18,
      "outputs": [
        {
          "output_type": "execute_result",
          "data": {
            "text/plain": [
              "9"
            ]
          },
          "metadata": {},
          "execution_count": 18
        }
      ]
    },
    {
      "cell_type": "code",
      "source": [
        "# Get the first three elements of the list\n",
        "my_list[0:3]"
      ],
      "metadata": {
        "colab": {
          "base_uri": "https://localhost:8080/"
        },
        "id": "JliIqScGkzZ-",
        "outputId": "b762c701-102d-4a60-9a8b-3c1c43f16ed4"
      },
      "execution_count": 19,
      "outputs": [
        {
          "output_type": "execute_result",
          "data": {
            "text/plain": [
              "[9, 1, 4]"
            ]
          },
          "metadata": {},
          "execution_count": 19
        }
      ]
    },
    {
      "cell_type": "code",
      "source": [
        "# Get the first three elements of the list\n",
        "my_list[:3]"
      ],
      "metadata": {
        "colab": {
          "base_uri": "https://localhost:8080/"
        },
        "id": "JgzJTZ7nk2sk",
        "outputId": "7f3b53bb-0eae-4e97-aa11-b8a8b2c7d4d1"
      },
      "execution_count": 20,
      "outputs": [
        {
          "output_type": "execute_result",
          "data": {
            "text/plain": [
              "[9, 1, 4]"
            ]
          },
          "metadata": {},
          "execution_count": 20
        }
      ]
    },
    {
      "cell_type": "code",
      "source": [
        "# Get all elements from index 3\n",
        "my_list[3:]"
      ],
      "metadata": {
        "colab": {
          "base_uri": "https://localhost:8080/"
        },
        "id": "J1hfPLBTk37b",
        "outputId": "17c65701-6d57-4fb2-c300-c28036c1fbaa"
      },
      "execution_count": 21,
      "outputs": [
        {
          "output_type": "execute_result",
          "data": {
            "text/plain": [
              "[2, 9]"
            ]
          },
          "metadata": {},
          "execution_count": 21
        }
      ]
    },
    {
      "cell_type": "code",
      "source": [
        "# Get the last three elements of the list\n",
        "my_list[-3:]"
      ],
      "metadata": {
        "colab": {
          "base_uri": "https://localhost:8080/"
        },
        "id": "UMxw5yggk5xn",
        "outputId": "927187c6-151d-48a0-dad8-516e9181431f"
      },
      "execution_count": 22,
      "outputs": [
        {
          "output_type": "execute_result",
          "data": {
            "text/plain": [
              "[4, 2, 9]"
            ]
          },
          "metadata": {},
          "execution_count": 22
        }
      ]
    },
    {
      "cell_type": "code",
      "source": [
        "# Make the change of the first element of the list to 'First\n",
        "my_list[0] = 'First'\n",
        "my_list"
      ],
      "metadata": {
        "colab": {
          "base_uri": "https://localhost:8080/"
        },
        "id": "W9LcE2ejk70Z",
        "outputId": "9ee222fe-d718-405f-98ae-4d85a55199aa"
      },
      "execution_count": 23,
      "outputs": [
        {
          "output_type": "execute_result",
          "data": {
            "text/plain": [
              "['First', 1, 4, 2, 9]"
            ]
          },
          "metadata": {},
          "execution_count": 23
        }
      ]
    },
    {
      "cell_type": "code",
      "source": [
        "# Change the last element of the list to the list ['one', 'two', 'three']\n",
        "my_list[-1] = ['one', 'two', 'three']\n",
        "my_list"
      ],
      "metadata": {
        "colab": {
          "base_uri": "https://localhost:8080/"
        },
        "id": "5xbJj7Wjk9yi",
        "outputId": "12fd6f89-a8f3-40ab-cf09-86412f4e3c21"
      },
      "execution_count": 24,
      "outputs": [
        {
          "output_type": "execute_result",
          "data": {
            "text/plain": [
              "['First', 1, 4, 2, ['one', 'two', 'three']]"
            ]
          },
          "metadata": {},
          "execution_count": 24
        }
      ]
    },
    {
      "cell_type": "code",
      "source": [
        "# Give the length of the list\n",
        "len(my_list)"
      ],
      "metadata": {
        "colab": {
          "base_uri": "https://localhost:8080/"
        },
        "id": "E3NKR7zxk--h",
        "outputId": "5363fa21-4f0f-456d-e9e4-70aa3e6ae04e"
      },
      "execution_count": 25,
      "outputs": [
        {
          "output_type": "execute_result",
          "data": {
            "text/plain": [
              "5"
            ]
          },
          "metadata": {},
          "execution_count": 25
        }
      ]
    },
    {
      "cell_type": "code",
      "source": [
        "# Get the last element of the list\n",
        "my_list[-1]\n"
      ],
      "metadata": {
        "colab": {
          "base_uri": "https://localhost:8080/"
        },
        "id": "QAcu_nsTlRHP",
        "outputId": "7a1d99e3-d1e0-44d0-bf68-d6a738e82ece"
      },
      "execution_count": 26,
      "outputs": [
        {
          "output_type": "execute_result",
          "data": {
            "text/plain": [
              "['one', 'two', 'three']"
            ]
          },
          "metadata": {},
          "execution_count": 26
        }
      ]
    },
    {
      "cell_type": "code",
      "source": [
        "# Get the first element of the last element of the list\n",
        "my_list[-1][0]"
      ],
      "metadata": {
        "colab": {
          "base_uri": "https://localhost:8080/",
          "height": 36
        },
        "id": "HeidMFqDmBBC",
        "outputId": "4c9ac8f5-6aa3-41ad-e524-938a0cf4faca"
      },
      "execution_count": 27,
      "outputs": [
        {
          "output_type": "execute_result",
          "data": {
            "text/plain": [
              "'one'"
            ],
            "application/vnd.google.colaboratory.intrinsic+json": {
              "type": "string"
            }
          },
          "metadata": {},
          "execution_count": 27
        }
      ]
    },
    {
      "cell_type": "code",
      "source": [
        "# Make the list with the elements 10, 11, and 12\n",
        "my_list.extend([10, 11, 12])\n",
        "my_list"
      ],
      "metadata": {
        "colab": {
          "base_uri": "https://localhost:8080/"
        },
        "id": "jfw_f2h4mD2S",
        "outputId": "78f31778-433b-46aa-81ab-1d702cb49712"
      },
      "execution_count": 41,
      "outputs": [
        {
          "output_type": "execute_result",
          "data": {
            "text/plain": [
              "[10, 11, 'inserted', 7, 10, 11, 12, 10, 11, 12]"
            ]
          },
          "metadata": {},
          "execution_count": 41
        }
      ]
    },
    {
      "cell_type": "code",
      "source": [
        "# Take the out the last elemnt of the list\n",
        "my_list.pop()\n",
        "my_list\n"
      ],
      "metadata": {
        "colab": {
          "base_uri": "https://localhost:8080/"
        },
        "id": "xZDxhtpToUWZ",
        "outputId": "2ee2a7f9-fb06-4d88-c542-85a665a82eaf"
      },
      "execution_count": 42,
      "outputs": [
        {
          "output_type": "execute_result",
          "data": {
            "text/plain": [
              "[10, 11, 'inserted', 7, 10, 11, 12, 10, 11]"
            ]
          },
          "metadata": {},
          "execution_count": 42
        }
      ]
    },
    {
      "cell_type": "code",
      "source": [
        "# Append the number 7 to the list\n",
        "my_list.append(7)\n",
        "my_list"
      ],
      "metadata": {
        "colab": {
          "base_uri": "https://localhost:8080/"
        },
        "id": "EPZF_esiocLw",
        "outputId": "f348926d-e3ab-4fcf-8d24-7761deab05c7"
      },
      "execution_count": 43,
      "outputs": [
        {
          "output_type": "execute_result",
          "data": {
            "text/plain": [
              "[10, 11, 'inserted', 7, 10, 11, 12, 10, 11, 7]"
            ]
          },
          "metadata": {},
          "execution_count": 43
        }
      ]
    },
    {
      "cell_type": "code",
      "source": [
        "# Add the string 'inserted' at index 2\n",
        "my_list.insert(2, 'inserted')\n",
        "my_list"
      ],
      "metadata": {
        "colab": {
          "base_uri": "https://localhost:8080/"
        },
        "id": "D8XlJvPSojTg",
        "outputId": "ab0844c5-c61c-4472-a303-974570ebdc42"
      },
      "execution_count": 44,
      "outputs": [
        {
          "output_type": "execute_result",
          "data": {
            "text/plain": [
              "[10, 11, 'inserted', 'inserted', 7, 10, 11, 12, 10, 11, 7]"
            ]
          },
          "metadata": {},
          "execution_count": 44
        }
      ]
    },
    {
      "cell_type": "code",
      "source": [
        "# make two new lists of intergers\n",
        "list1 = [1, 2, 3]\n",
        "list2 = [4, 5, 6]\n"
      ],
      "metadata": {
        "id": "MgmhxhMqoqLE"
      },
      "execution_count": 45,
      "outputs": []
    },
    {
      "cell_type": "code",
      "source": [
        "# Add the two lists\n",
        "list1 + list2"
      ],
      "metadata": {
        "colab": {
          "base_uri": "https://localhost:8080/"
        },
        "id": "sx3-f98iovyZ",
        "outputId": "a4e0fd39-3f5e-4192-f0cd-d01766e8c16b"
      },
      "execution_count": 46,
      "outputs": [
        {
          "output_type": "execute_result",
          "data": {
            "text/plain": [
              "[1, 2, 3, 4, 5, 6]"
            ]
          },
          "metadata": {},
          "execution_count": 46
        }
      ]
    },
    {
      "cell_type": "code",
      "source": [
        "# Repeat list1 three times\n",
        "list1 * 3\n"
      ],
      "metadata": {
        "colab": {
          "base_uri": "https://localhost:8080/"
        },
        "id": "F9j9-MLjo0QZ",
        "outputId": "718e9a8e-ec9b-4672-c4d4-540b794ebe32"
      },
      "execution_count": 47,
      "outputs": [
        {
          "output_type": "execute_result",
          "data": {
            "text/plain": [
              "[1, 2, 3, 1, 2, 3, 1, 2, 3]"
            ]
          },
          "metadata": {},
          "execution_count": 47
        }
      ]
    },
    {
      "cell_type": "code",
      "source": [
        "# Determine if the number 5 is in my list1\n",
        "5 in list1\n"
      ],
      "metadata": {
        "colab": {
          "base_uri": "https://localhost:8080/"
        },
        "id": "v4T2BSrFpIMy",
        "outputId": "f61e19a7-f1bf-4a72-a4c4-00a4e6383ef3"
      },
      "execution_count": 48,
      "outputs": [
        {
          "output_type": "execute_result",
          "data": {
            "text/plain": [
              "False"
            ]
          },
          "metadata": {},
          "execution_count": 48
        }
      ]
    },
    {
      "cell_type": "code",
      "source": [
        "# Make the change of reversing the list\n",
        "list1.reverse()\n",
        "list1"
      ],
      "metadata": {
        "colab": {
          "base_uri": "https://localhost:8080/"
        },
        "id": "wcrdBb7tpR2f",
        "outputId": "755aa8b8-8d98-4e0f-dc65-21d2a060109d"
      },
      "execution_count": 49,
      "outputs": [
        {
          "output_type": "execute_result",
          "data": {
            "text/plain": [
              "[3, 2, 1]"
            ]
          },
          "metadata": {},
          "execution_count": 49
        }
      ]
    },
    {
      "cell_type": "code",
      "source": [
        "# Make a list of intergers from 0 to 9\n",
        "list(range(10))"
      ],
      "metadata": {
        "colab": {
          "base_uri": "https://localhost:8080/"
        },
        "id": "chueIraFpz-T",
        "outputId": "03792382-8a31-4d4f-d386-2a4ff222d516"
      },
      "execution_count": 50,
      "outputs": [
        {
          "output_type": "execute_result",
          "data": {
            "text/plain": [
              "[0, 1, 2, 3, 4, 5, 6, 7, 8, 9]"
            ]
          },
          "metadata": {},
          "execution_count": 50
        }
      ]
    },
    {
      "cell_type": "code",
      "source": [
        "# Create a list that has a string 'I love Python'\n",
        "list('I love Python')"
      ],
      "metadata": {
        "colab": {
          "base_uri": "https://localhost:8080/"
        },
        "id": "obi5eEDWp2M0",
        "outputId": "6a04fcdb-15c7-40b6-84a6-aabb33e0a753"
      },
      "execution_count": 51,
      "outputs": [
        {
          "output_type": "execute_result",
          "data": {
            "text/plain": [
              "['I', ' ', 'l', 'o', 'v', 'e', ' ', 'P', 'y', 't', 'h', 'o', 'n']"
            ]
          },
          "metadata": {},
          "execution_count": 51
        }
      ]
    },
    {
      "cell_type": "code",
      "source": [
        "# Make list stating  'I love python'\n",
        "list('I love python')"
      ],
      "metadata": {
        "colab": {
          "base_uri": "https://localhost:8080/"
        },
        "id": "nbhPHBY6rgLx",
        "outputId": "c43f534e-dfe4-49d0-8674-53d8c3317f25"
      },
      "execution_count": 56,
      "outputs": [
        {
          "output_type": "execute_result",
          "data": {
            "text/plain": [
              "['I', ' ', 'l', 'o', 'v', 'e', ' ', 'p', 'y', 't', 'h', 'o', 'n']"
            ]
          },
          "metadata": {},
          "execution_count": 56
        }
      ]
    },
    {
      "cell_type": "markdown",
      "source": [
        "**What are the differences between the append, insert, and extend?**\n",
        "\n",
        "*   Append-Adds a single element to the end of the list.\n",
        "   Adds one item to the end.\n",
        "\n",
        "*   Insert(index, value) → Adds an element at a specific index in the list. Adds one item at a specific position\n",
        "\n",
        "*  Extend(iterable) → Adds multiple elements (from another list, tuple, etc.) to the end of the list.Adds multiple items to the end.\n"
      ],
      "metadata": {
        "id": "FEI1qA2gqEaQ"
      }
    },
    {
      "cell_type": "markdown",
      "source": [
        "## **Tuples**"
      ],
      "metadata": {
        "id": "hwl0JzX9r42f"
      }
    },
    {
      "cell_type": "code",
      "source": [
        "# Create a tuple of five integers and assign it to the variable tuple_1\n",
        "tuple_1 = 2, 4, 5, 7, 'water'\n",
        "tuple_1"
      ],
      "metadata": {
        "colab": {
          "base_uri": "https://localhost:8080/"
        },
        "id": "DQeQlpVgsGjF",
        "outputId": "0a016782-ff2a-40f4-ac54-6baed7554c8a"
      },
      "execution_count": 58,
      "outputs": [
        {
          "output_type": "execute_result",
          "data": {
            "text/plain": [
              "(2, 4, 5, 7, 'water')"
            ]
          },
          "metadata": {},
          "execution_count": 58
        }
      ]
    },
    {
      "cell_type": "code",
      "source": [
        "# Type of the tuple\n",
        "type(tuple_1)"
      ],
      "metadata": {
        "colab": {
          "base_uri": "https://localhost:8080/"
        },
        "id": "Msb1XIAJsOZk",
        "outputId": "466b8e67-b918-4fa3-c410-29c43e9c030f"
      },
      "execution_count": 59,
      "outputs": [
        {
          "output_type": "execute_result",
          "data": {
            "text/plain": [
              "tuple"
            ]
          },
          "metadata": {},
          "execution_count": 59
        }
      ]
    },
    {
      "cell_type": "code",
      "source": [
        "# Create a tuple with the elements 1, 2, 'three', and the list 'Python' and assign it to the variable tuple_2\n",
        "tuple_2 = (1, 2, 'three', list('Python')) # Use parentheses\n",
        "tuple_2"
      ],
      "metadata": {
        "colab": {
          "base_uri": "https://localhost:8080/"
        },
        "id": "MRVJPc7NsOdD",
        "outputId": "46a4fa8f-6fc4-4ad2-953a-2ecac5e5040b"
      },
      "execution_count": 60,
      "outputs": [
        {
          "output_type": "execute_result",
          "data": {
            "text/plain": [
              "(1, 2, 'three', ['P', 'y', 't', 'h', 'o', 'n'])"
            ]
          },
          "metadata": {},
          "execution_count": 60
        }
      ]
    },
    {
      "cell_type": "code",
      "source": [
        "# Get the first elemnt of tuple_1\n",
        "tuple_1[0]"
      ],
      "metadata": {
        "colab": {
          "base_uri": "https://localhost:8080/"
        },
        "id": "8lexVg9Gs33i",
        "outputId": "34458652-5c25-4771-f37a-98755fcdc3eb"
      },
      "execution_count": 61,
      "outputs": [
        {
          "output_type": "execute_result",
          "data": {
            "text/plain": [
              "2"
            ]
          },
          "metadata": {},
          "execution_count": 61
        }
      ]
    },
    {
      "cell_type": "code",
      "source": [
        "# Create a tuple with the string elements 'Python', 'R', and 'Julia' and assign it to the variable langauges\n",
        "languages = ('Python', 'R', 'Julia')\n",
        "languages"
      ],
      "metadata": {
        "colab": {
          "base_uri": "https://localhost:8080/"
        },
        "id": "KoA_XDZKtW-8",
        "outputId": "f9181e59-c592-4a33-c50e-70be3ff36667"
      },
      "execution_count": 62,
      "outputs": [
        {
          "output_type": "execute_result",
          "data": {
            "text/plain": [
              "('Python', 'R', 'Julia')"
            ]
          },
          "metadata": {},
          "execution_count": 62
        }
      ]
    },
    {
      "cell_type": "code",
      "source": [
        "# Assign each element of the tuple to a separate variable, using the variable names one, two, and three\n",
        "one, two, three = languages"
      ],
      "metadata": {
        "id": "aKwt3rn-tZZx"
      },
      "execution_count": 63,
      "outputs": []
    },
    {
      "cell_type": "code",
      "source": [
        "# Retrieve the object in one\n",
        "one"
      ],
      "metadata": {
        "colab": {
          "base_uri": "https://localhost:8080/",
          "height": 36
        },
        "id": "-cYAmVWWtahe",
        "outputId": "1405d6f2-6867-41d7-e491-695f6e9b4dda"
      },
      "execution_count": 64,
      "outputs": [
        {
          "output_type": "execute_result",
          "data": {
            "text/plain": [
              "'Python'"
            ],
            "application/vnd.google.colaboratory.intrinsic+json": {
              "type": "string"
            }
          },
          "metadata": {},
          "execution_count": 64
        }
      ]
    },
    {
      "cell_type": "code",
      "source": [
        "names = ['Mary', 'Anne', 'Rene']\n",
        "surnames = ['Johnstone', 'Barnes', 'Le Roux']"
      ],
      "metadata": {
        "id": "cbH1kVM0tdjX"
      },
      "execution_count": 65,
      "outputs": []
    },
    {
      "cell_type": "code",
      "source": [
        "# Use the zip function to create a list of tuples (going to \"zip them together\")\n",
        "list(zip(names, surnames))"
      ],
      "metadata": {
        "colab": {
          "base_uri": "https://localhost:8080/"
        },
        "id": "tQ_npft_tgHy",
        "outputId": "4e0beeeb-147e-4ad0-ed7c-270379839001"
      },
      "execution_count": 66,
      "outputs": [
        {
          "output_type": "execute_result",
          "data": {
            "text/plain": [
              "[('Mary', 'Johnstone'), ('Anne', 'Barnes'), ('Rene', 'Le Roux')]"
            ]
          },
          "metadata": {},
          "execution_count": 66
        }
      ]
    },
    {
      "cell_type": "code",
      "source": [
        "# Generate a list of tuples (each with three elements)\n",
        "data_set = [('Anna', 'Rogers', 33), ('Susan', 'Roberts', 25), ('Rene', 'Du Bois', 28)]\n",
        "\n",
        "# Unzip the thee element tuples\n",
        "names, lastnames, ages = zip(*data_set)"
      ],
      "metadata": {
        "id": "N4WA1bPWtiBl"
      },
      "execution_count": 67,
      "outputs": []
    },
    {
      "cell_type": "markdown",
      "source": [
        "\n",
        "*   The star unzips the list\n",
        "\n",
        "\n"
      ],
      "metadata": {
        "id": "jyAhMp-iuOyy"
      }
    },
    {
      "cell_type": "code",
      "source": [
        "# Return the names\n",
        "names"
      ],
      "metadata": {
        "colab": {
          "base_uri": "https://localhost:8080/"
        },
        "id": "XPPBhCDluEnv",
        "outputId": "41083a6c-4f74-4036-b0fc-487f7167ac1a"
      },
      "execution_count": 68,
      "outputs": [
        {
          "output_type": "execute_result",
          "data": {
            "text/plain": [
              "('Anna', 'Susan', 'Rene')"
            ]
          },
          "metadata": {},
          "execution_count": 68
        }
      ]
    },
    {
      "cell_type": "code",
      "source": [
        "# Return the lastnames\n",
        "lastnames"
      ],
      "metadata": {
        "colab": {
          "base_uri": "https://localhost:8080/"
        },
        "id": "MSR2cMw6uS2-",
        "outputId": "086fdba9-a321-474e-e1df-e2eb7ac75bfa"
      },
      "execution_count": 70,
      "outputs": [
        {
          "output_type": "execute_result",
          "data": {
            "text/plain": [
              "('Rogers', 'Roberts', 'Du Bois')"
            ]
          },
          "metadata": {},
          "execution_count": 70
        }
      ]
    },
    {
      "cell_type": "code",
      "source": [
        "# Return the ages\n",
        "ages"
      ],
      "metadata": {
        "colab": {
          "base_uri": "https://localhost:8080/"
        },
        "id": "0OEaWOxMuXts",
        "outputId": "3828c684-00f6-452b-b809-afa4005e32f3"
      },
      "execution_count": 71,
      "outputs": [
        {
          "output_type": "execute_result",
          "data": {
            "text/plain": [
              "(33, 25, 28)"
            ]
          },
          "metadata": {},
          "execution_count": 71
        }
      ]
    },
    {
      "cell_type": "markdown",
      "source": [
        "# **Dictionaries**\n",
        "\n",
        "*  \"Key Value Pairs\"\n",
        "\n"
      ],
      "metadata": {
        "id": "nepKFSfzuY87"
      }
    },
    {
      "cell_type": "code",
      "source": [
        "# Generate a dictionary\n",
        "id345 = {'First Name':'Amy', 'Last Name':'Diaz', 'Age':48, 'Heart Rate':75}"
      ],
      "metadata": {
        "id": "mtXgGG2DufEt"
      },
      "execution_count": 87,
      "outputs": []
    },
    {
      "cell_type": "code",
      "source": [
        "# Return the keys of the dictionary\n",
        "id345.keys()"
      ],
      "metadata": {
        "colab": {
          "base_uri": "https://localhost:8080/"
        },
        "id": "4xlTRJ-Xu3uC",
        "outputId": "cfa48182-5bfc-4e49-8cd8-a57b451ada88"
      },
      "execution_count": 83,
      "outputs": [
        {
          "output_type": "execute_result",
          "data": {
            "text/plain": [
              "dict_keys(['First Name', 'Last Name', 'Age', 'Heart Rate'])"
            ]
          },
          "metadata": {},
          "execution_count": 83
        }
      ]
    },
    {
      "cell_type": "code",
      "source": [
        "# Return the values of the dictionary\n",
        "id345.values()"
      ],
      "metadata": {
        "colab": {
          "base_uri": "https://localhost:8080/"
        },
        "id": "yxPwmtMBu45A",
        "outputId": "b3f2ad41-75f6-4fd5-dc01-8f10efcced91"
      },
      "execution_count": 88,
      "outputs": [
        {
          "output_type": "execute_result",
          "data": {
            "text/plain": [
              "dict_values(['Amy', 'Diaz', 48, 75])"
            ]
          },
          "metadata": {},
          "execution_count": 88
        }
      ]
    },
    {
      "cell_type": "code",
      "source": [
        "# Return the value for the 'Firt Name' key\n",
        "id345['First Name']"
      ],
      "metadata": {
        "colab": {
          "base_uri": "https://localhost:8080/",
          "height": 36
        },
        "id": "OlG6fOISu7Gt",
        "outputId": "b9675edc-282f-4458-d6d8-e7a4203973eb"
      },
      "execution_count": 89,
      "outputs": [
        {
          "output_type": "execute_result",
          "data": {
            "text/plain": [
              "'Amy'"
            ],
            "application/vnd.google.colaboratory.intrinsic+json": {
              "type": "string"
            }
          },
          "metadata": {},
          "execution_count": 89
        }
      ]
    },
    {
      "cell_type": "code",
      "source": [
        "id345.get('Surname') # No such key"
      ],
      "metadata": {
        "id": "mo7X6B55u8Jw"
      },
      "execution_count": 90,
      "outputs": []
    },
    {
      "cell_type": "code",
      "source": [
        "# Generate a dictionary using the dict function\n",
        "my_dict = dict([(1, 'A'), (2, 'B'), (3,'C'), (4,'D')])\n",
        "\n",
        "# Return a list of the values of the dictionary\n",
        "list(my_dict.values())"
      ],
      "metadata": {
        "colab": {
          "base_uri": "https://localhost:8080/"
        },
        "id": "AyqgMlG4u9bp",
        "outputId": "82a2d2af-6bc6-4775-f016-4177d9f61799"
      },
      "execution_count": 91,
      "outputs": [
        {
          "output_type": "execute_result",
          "data": {
            "text/plain": [
              "['A', 'B', 'C', 'D']"
            ]
          },
          "metadata": {},
          "execution_count": 91
        }
      ]
    },
    {
      "cell_type": "markdown",
      "source": [
        "# **Sets**\n",
        "\n",
        "*   Used with curly brackets or the set function\n",
        "*   Collection of unordered list in unique elements"
      ],
      "metadata": {
        "id": "jkB6sXJ4vfdg"
      }
    },
    {
      "cell_type": "code",
      "source": [
        "# Make set with the elements 1, 2, 3, 4, 4, 4, 4, 1\n",
        "set_1 = {1, 2, 3, 4, 4, 4, 4, 1}\n",
        "set_1 # Call object and print to the scren"
      ],
      "metadata": {
        "colab": {
          "base_uri": "https://localhost:8080/"
        },
        "id": "ZfARI2_Yv6T6",
        "outputId": "667226fe-371d-4361-e408-bdbe4aa29854"
      },
      "execution_count": 92,
      "outputs": [
        {
          "output_type": "execute_result",
          "data": {
            "text/plain": [
              "{1, 2, 3, 4}"
            ]
          },
          "metadata": {},
          "execution_count": 92
        }
      ]
    },
    {
      "cell_type": "code",
      "source": [
        "# Use the set function instead\n",
        "set_1 = set([1, 2, 3, 4, 4, 4, 4, 1])\n",
        "set_1"
      ],
      "metadata": {
        "colab": {
          "base_uri": "https://localhost:8080/"
        },
        "id": "xOFI1l3hv88z",
        "outputId": "689a2151-909d-40fb-a208-24d282e3b8fc"
      },
      "execution_count": 93,
      "outputs": [
        {
          "output_type": "execute_result",
          "data": {
            "text/plain": [
              "{1, 2, 3, 4}"
            ]
          },
          "metadata": {},
          "execution_count": 93
        }
      ]
    },
    {
      "cell_type": "code",
      "source": [
        "# Add the element 7 to the set\n",
        "set_1.add(7)\n",
        "set_1"
      ],
      "metadata": {
        "colab": {
          "base_uri": "https://localhost:8080/"
        },
        "id": "uQgCZLnnv-9u",
        "outputId": "4b8e8fea-8fbe-4eaa-908e-b5a25a3283e3"
      },
      "execution_count": 94,
      "outputs": [
        {
          "output_type": "execute_result",
          "data": {
            "text/plain": [
              "{1, 2, 3, 4, 7}"
            ]
          },
          "metadata": {},
          "execution_count": 94
        }
      ]
    },
    {
      "cell_type": "code",
      "source": [
        "# Remove the element 4 from the set\n",
        "set_1.remove(4)\n",
        "set_1"
      ],
      "metadata": {
        "colab": {
          "base_uri": "https://localhost:8080/"
        },
        "id": "jroyRfCNwAq1",
        "outputId": "6cfbdc21-b9e8-4fd5-db45-2bf37f594ca1"
      },
      "execution_count": 95,
      "outputs": [
        {
          "output_type": "execute_result",
          "data": {
            "text/plain": [
              "{1, 2, 3, 7}"
            ]
          },
          "metadata": {},
          "execution_count": 95
        }
      ]
    },
    {
      "cell_type": "code",
      "source": [
        "# First set\n",
        "set_A = {'a', 'a', 'a', 'b', 'c', 'd', 'e', 'f', 'e', 'a'}\n",
        "set_A"
      ],
      "metadata": {
        "colab": {
          "base_uri": "https://localhost:8080/"
        },
        "id": "MH0c8-brwDqh",
        "outputId": "fefb6d9b-10ac-4df3-f1aa-460d24e2e122"
      },
      "execution_count": 96,
      "outputs": [
        {
          "output_type": "execute_result",
          "data": {
            "text/plain": [
              "{'a', 'b', 'c', 'd', 'e', 'f'}"
            ]
          },
          "metadata": {},
          "execution_count": 96
        }
      ]
    },
    {
      "cell_type": "code",
      "source": [
        "# Second set\n",
        "set_B = {'a', 'c', 'c', 'f', 'g'}\n",
        "set_B"
      ],
      "metadata": {
        "colab": {
          "base_uri": "https://localhost:8080/"
        },
        "id": "dG6AaU6GwFxa",
        "outputId": "4659855f-9807-4e9b-fa58-3fa5efa53e2c"
      },
      "execution_count": 97,
      "outputs": [
        {
          "output_type": "execute_result",
          "data": {
            "text/plain": [
              "{'a', 'c', 'f', 'g'}"
            ]
          },
          "metadata": {},
          "execution_count": 97
        }
      ]
    },
    {
      "cell_type": "code",
      "source": [
        "# Return the union of the two sets using the union method\n",
        "set_A.union(set_B)"
      ],
      "metadata": {
        "colab": {
          "base_uri": "https://localhost:8080/"
        },
        "id": "Jtxa3yQuwG6K",
        "outputId": "9dfffde7-7a09-457e-9a19-e0435c75b436"
      },
      "execution_count": 98,
      "outputs": [
        {
          "output_type": "execute_result",
          "data": {
            "text/plain": [
              "{'a', 'b', 'c', 'd', 'e', 'f', 'g'}"
            ]
          },
          "metadata": {},
          "execution_count": 98
        }
      ]
    },
    {
      "cell_type": "code",
      "source": [
        "# Return the intersection of the two sets using the intersection method\n",
        "set_A.intersection(set_B)"
      ],
      "metadata": {
        "colab": {
          "base_uri": "https://localhost:8080/"
        },
        "id": "4HfmKkP3wIn2",
        "outputId": "a06401a6-10e4-4d5c-a75f-ced5707e402d"
      },
      "execution_count": 99,
      "outputs": [
        {
          "output_type": "execute_result",
          "data": {
            "text/plain": [
              "{'a', 'c', 'f'}"
            ]
          },
          "metadata": {},
          "execution_count": 99
        }
      ]
    },
    {
      "cell_type": "code",
      "source": [
        "# Return the union of the two sets using the pipe operator\n",
        "set_A | set_B"
      ],
      "metadata": {
        "colab": {
          "base_uri": "https://localhost:8080/"
        },
        "id": "KeIU_qlkwJwx",
        "outputId": "1845a14d-730e-41e7-8d3b-7a7d8f4b1de2"
      },
      "execution_count": 100,
      "outputs": [
        {
          "output_type": "execute_result",
          "data": {
            "text/plain": [
              "{'a', 'b', 'c', 'd', 'e', 'f', 'g'}"
            ]
          },
          "metadata": {},
          "execution_count": 100
        }
      ]
    },
    {
      "cell_type": "code",
      "source": [
        "# Return the intersection of the two sets using the & operator\n",
        "set_A & set_B"
      ],
      "metadata": {
        "colab": {
          "base_uri": "https://localhost:8080/"
        },
        "id": "BSbV5XN-wKU2",
        "outputId": "43d5f31b-febf-4019-a9d9-3b77f37b4c5f"
      },
      "execution_count": 101,
      "outputs": [
        {
          "output_type": "execute_result",
          "data": {
            "text/plain": [
              "{'a', 'c', 'f'}"
            ]
          },
          "metadata": {},
          "execution_count": 101
        }
      ]
    },
    {
      "cell_type": "code",
      "source": [
        "# Return the difference between the two sets using the difference method\n",
        "set_A.difference(set_B)"
      ],
      "metadata": {
        "colab": {
          "base_uri": "https://localhost:8080/"
        },
        "id": "15d6bGZYwMM6",
        "outputId": "93411f92-ecef-4b80-c86d-27fe21d1315c"
      },
      "execution_count": 102,
      "outputs": [
        {
          "output_type": "execute_result",
          "data": {
            "text/plain": [
              "{'b', 'd', 'e'}"
            ]
          },
          "metadata": {},
          "execution_count": 102
        }
      ]
    },
    {
      "cell_type": "code",
      "source": [
        "# Return the symmetric difference between the two sets using the symmetric_difference method\n",
        "set_A.symmetric_difference(set_B)"
      ],
      "metadata": {
        "colab": {
          "base_uri": "https://localhost:8080/"
        },
        "id": "417fAaEQwNZL",
        "outputId": "3f59e78f-315d-49ad-fecf-17b8278914c6"
      },
      "execution_count": 103,
      "outputs": [
        {
          "output_type": "execute_result",
          "data": {
            "text/plain": [
              "{'b', 'd', 'e', 'g'}"
            ]
          },
          "metadata": {},
          "execution_count": 103
        }
      ]
    },
    {
      "cell_type": "markdown",
      "source": [
        "# **List comprehension**\n"
      ],
      "metadata": {
        "id": "mMJKvTSswUJX"
      }
    },
    {
      "cell_type": "code",
      "source": [
        "# First set\n",
        "set_A = {'a', 'a', 'a', 'b', 'c', 'd', 'e', 'f', 'e', 'a'}\n",
        "set_A"
      ],
      "metadata": {
        "id": "QuggbPYNxJcS"
      },
      "execution_count": null,
      "outputs": []
    },
    {
      "cell_type": "code",
      "source": [
        "from IPython.display import display, HTML\n",
        "\n",
        "display(HTML('<p style=\"color:blue; font-size:40px; font-weight:bold;\">Quiz Questions:</p>'))\n"
      ],
      "metadata": {
        "colab": {
          "base_uri": "https://localhost:8080/",
          "height": 79
        },
        "id": "mUcqBF3vy82a",
        "outputId": "58e79c89-3a3d-40d3-c2c1-e01c65dd00a1"
      },
      "execution_count": 108,
      "outputs": [
        {
          "output_type": "display_data",
          "data": {
            "text/plain": [
              "<IPython.core.display.HTML object>"
            ],
            "text/html": [
              "<p style=\"color:blue; font-size:40px; font-weight:bold;\">Quiz Questions:</p>"
            ]
          },
          "metadata": {}
        }
      ]
    },
    {
      "cell_type": "markdown",
      "source": [
        "# **Questions**:\n"
      ],
      "metadata": {
        "id": "lbh6GmPUzVr6"
      }
    },
    {
      "cell_type": "markdown",
      "source": [
        "### **1.** How do you define a list in Python?\n",
        "my_list = [1, 2, 3, 4]\n",
        "A list is defined using square brackets [], and elements are separated by commas.\n",
        "\n"
      ],
      "metadata": {
        "id": "UpJ1dPS53Zmk"
      }
    },
    {
      "cell_type": "markdown",
      "source": [
        "### **2.** How do you access the third element of a Python list named `my_list`?\n",
        "Use indexing, remembering Python starts at 0.\n",
        "third_element = my_list[2]\n"
      ],
      "metadata": {
        "id": "ZLoyxV2v3d_C"
      }
    },
    {
      "cell_type": "markdown",
      "source": [
        "### **3.** How can you add the element `\"new_item\"` to the end of an existing list named `my_list`?\n",
        "\n",
        "Use the append() method.\n",
        "my_list.append(\"new_item\")"
      ],
      "metadata": {
        "id": "gDdhuY7F3eiZ"
      }
    },
    {
      "cell_type": "markdown",
      "source": [
        "### **4.** How do you create a Python tuple with the items `\"apple\"`, `\"banana\"`, and `\"cherry\"`?\n",
        "\n",
        "Use parentheses () instead of brackets.\n",
        "my_tuple = (\"apple\", \"banana\", \"cherry\")\n"
      ],
      "metadata": {
        "id": "VkwAQTcU3lvJ"
      }
    },
    {
      "cell_type": "markdown",
      "source": [
        "### **5.** How do you access the first element of a Python tuple named `my_tuple`?\n",
        "\n",
        "The same as Same as lists, use indexing.\n",
        "first_element = my_tuple[0]\n",
        "\n"
      ],
      "metadata": {
        "id": "yftOYmul3pHo"
      }
    },
    {
      "cell_type": "markdown",
      "source": [
        "### **6.** How do you define a dictionary in Python with keys `\"name\"`, `\"age\"` and values `\"John Doe\"`, `30`?\n",
        "Use curly brackets {} with key-value pairs.\n",
        "\n",
        "my_dict = {\"name\": \"John Doe\", \"age\": 30}\n"
      ],
      "metadata": {
        "id": "0ksqNzmk3qB2"
      }
    },
    {
      "cell_type": "markdown",
      "source": [
        "### **7.** How can you retrieve the value for the key `\"name\"` from the dictionary `my_dict`?\n",
        "\n",
        "Use the key inside square brackets or .get().\n",
        "name = my_dict[\"name\"]\n",
        "## Or\n",
        "name = my_dict.get(\"name\")\n",
        "\n"
      ],
      "metadata": {
        "id": "jJFU74cA3rIO"
      }
    },
    {
      "cell_type": "markdown",
      "source": [
        "### **8.** How can you change the value associated with the key `\"age\"` in the dictionary `my_dict` to `35`?\n",
        "\n",
        "Reassign the key's value.\n",
        "\n",
        "my_dict[\"age\"] = 35\n",
        "\n"
      ],
      "metadata": {
        "id": "25MiptGe3sEw"
      }
    },
    {
      "cell_type": "markdown",
      "source": [
        "### **9.** How can you add a new key-value pair `\"city\":\"New York\"` to the dictionary `my_dict`?\n",
        "\n",
        "Assign a new key and value.\n",
        "my_dict[\"city\"] = \"New York\"\n"
      ],
      "metadata": {
        "id": "kQK_D3Mn3tPC"
      }
    },
    {
      "cell_type": "markdown",
      "source": [
        "### **10.** How do you create a set in Python with the items `\"apple\"`, `\"banana\"`, and `\"cherry\"`?\n",
        "Use curly brackets {} like this:\n",
        "my_set = {\"apple\", \"banana\", \"cherry\"}\n",
        "\n"
      ],
      "metadata": {
        "id": "P3e4Jj4o3uEg"
      }
    },
    {
      "cell_type": "markdown",
      "source": [
        "### **11.** How do you add the item `\"orange\"` to an existing set `my_set`?\n",
        "\n",
        "Use .add()\n",
        "my_set.add(\"orange\")\n"
      ],
      "metadata": {
        "id": "PLVH_EBV3ujv"
      }
    },
    {
      "cell_type": "markdown",
      "source": [
        "### **12.** How do you remove the item `\"banana\"` from the set `my_set`?\n",
        "\n",
        "Use .remove() or .discard()\n",
        "my_set.remove(\"banana\")  # Will raise an error if \"banana\" isn’t in the set\n",
        "## Or\n",
        "my_set.discard(\"banana\")  # Won’t raise an error if \"banana\" is missing\n",
        "\n"
      ],
      "metadata": {
        "id": "l-VbSHtK3w_o"
      }
    },
    {
      "cell_type": "markdown",
      "source": [
        "### **13.** What is the length of a list `my_list` with elements `[1, 2, 3, 4, 5]`?\n",
        "\n",
        "Use len().\n",
        "len(my_list)  # Output: 5\n",
        "\n"
      ],
      "metadata": {
        "id": "7qcknPOi3x8f"
      }
    },
    {
      "cell_type": "markdown",
      "source": [
        "### **14.** What will be the result of `my_list * 2` if `my_list` is `[1, 2, 3]`?\n",
        "It duplicates the list, not multiplies values.\n",
        "[1, 2, 3] * 2  # Output: [1, 2, 3, 1, 2, 3]\n",
        "\n"
      ],
      "metadata": {
        "id": "s5GCoWyt3zAv"
      }
    },
    {
      "cell_type": "markdown",
      "source": [
        "### **15.** What is the result of `set([1,2,2,3,4,4,4,5,5])`?\n",
        "\n",
        "It removes duplicates since sets store only unique values.\n",
        "{1, 2, 3, 4, 5}\n",
        "\n"
      ],
      "metadata": {
        "id": "xmY0tdAx3y7W"
      }
    }
  ]
}